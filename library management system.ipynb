{
 "cells": [
  {
   "cell_type": "code",
   "execution_count": 1,
   "metadata": {
    "collapsed": true
   },
   "outputs": [],
   "source": [
    "class Patron:\n",
    "    firstname = None\n",
    "    lastname = None\n",
    "    address = None\n",
    "    books = []\n",
    "    \n",
    "    def __repr__(self):\n",
    "        return '{} {}'.format(self.firstname, self.lastname)\n",
    "    \n",
    "    def has_book(self, bookid):\n",
    "        return bookid in self.books"
   ]
  },
  {
   "cell_type": "code",
   "execution_count": 2,
   "metadata": {
    "collapsed": true
   },
   "outputs": [],
   "source": [
    "class Student(Patron):\n",
    "    faculty = None\n",
    "    year = None\n",
    "    \n",
    "    def __init__(self,firstname,lastname,faculty,year):\n",
    "        self.firstname = firstname\n",
    "        self.lastname = lastname\n",
    "        self.faculty = faculty\n",
    "        self.year = year"
   ]
  },
  {
   "cell_type": "code",
   "execution_count": 3,
   "metadata": {
    "collapsed": true
   },
   "outputs": [],
   "source": [
    "class Staff(Patron):\n",
    "    department = None"
   ]
  },
  {
   "cell_type": "code",
   "execution_count": 4,
   "metadata": {
    "collapsed": true
   },
   "outputs": [],
   "source": [
    "class Book(Patron):\n",
    "    isbn = None\n",
    "    bookid = None\n",
    "    name = None"
   ]
  },
  {
   "cell_type": "code",
   "execution_count": null,
   "metadata": {
    "collapsed": true
   },
   "outputs": [],
   "source": []
  }
 ],
 "metadata": {
  "kernelspec": {
   "display_name": "Python 3",
   "language": "python",
   "name": "python3"
  },
  "language_info": {
   "codemirror_mode": {
    "name": "ipython",
    "version": 3
   },
   "file_extension": ".py",
   "mimetype": "text/x-python",
   "name": "python",
   "nbconvert_exporter": "python",
   "pygments_lexer": "ipython3",
   "version": "3.5.1"
  }
 },
 "nbformat": 4,
 "nbformat_minor": 0
}
